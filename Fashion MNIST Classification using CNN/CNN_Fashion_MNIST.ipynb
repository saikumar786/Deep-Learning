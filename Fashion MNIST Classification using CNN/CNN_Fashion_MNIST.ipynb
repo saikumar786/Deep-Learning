{
  "nbformat": 4,
  "nbformat_minor": 0,
  "metadata": {
    "colab": {
      "name": "CNN Fashion MNIST.ipynb",
      "provenance": [],
      "collapsed_sections": []
    },
    "kernelspec": {
      "name": "python3",
      "display_name": "Python 3"
    },
    "accelerator": "GPU"
  },
  "cells": [
    {
      "cell_type": "markdown",
      "metadata": {
        "id": "qRPJR9kiT6XM",
        "colab_type": "text"
      },
      "source": [
        "**Improving Computer Vision Accuracy using Convolutions**\n",
        "\n",
        "---\n",
        "\n",
        "In the previous lessons you saw how to do fashion recognition using a Deep Neural Network (DNN) containing three layers -- the input layer (in the shape of the data), the output layer (in the shape of the desired output) and a hidden layer. You experimented with the impact of different sizes of hidden layer, number of training epochs etc on the final accuracy."
      ]
    },
    {
      "cell_type": "code",
      "metadata": {
        "id": "___Q4mgxtSmj",
        "colab_type": "code",
        "outputId": "a63accf5-e0e4-42a4-a603-a3b7b9e52c96",
        "colab": {
          "base_uri": "https://localhost:8080/",
          "height": 33
        }
      },
      "source": [
        "import tensorflow as tf\n",
        "print(tf.__version__)"
      ],
      "execution_count": 2,
      "outputs": [
        {
          "output_type": "stream",
          "text": [
            "2.2.0\n"
          ],
          "name": "stdout"
        }
      ]
    },
    {
      "cell_type": "markdown",
      "metadata": {
        "id": "5XVHfyE7uJw5",
        "colab_type": "text"
      },
      "source": [
        "The Fashion MNIST data is available directly in the tf.keras datasets API. You load it like this:"
      ]
    },
    {
      "cell_type": "code",
      "metadata": {
        "id": "11ntBMavuIhS",
        "colab_type": "code",
        "colab": {}
      },
      "source": [
        "mnist = tf.keras.datasets.fashion_mnist"
      ],
      "execution_count": 0,
      "outputs": []
    },
    {
      "cell_type": "markdown",
      "metadata": {
        "id": "l_0iZab5uiVC",
        "colab_type": "text"
      },
      "source": [
        "Calling load_data on this object will give us two sets of two lists, these will be the training and testing values for the graphics that contain the clothing items and their labels."
      ]
    },
    {
      "cell_type": "code",
      "metadata": {
        "id": "qe0kBDXauIpV",
        "colab_type": "code",
        "outputId": "538ebf70-5226-4a66-d7fd-662834159ff6",
        "colab": {
          "base_uri": "https://localhost:8080/",
          "height": 147
        }
      },
      "source": [
        "(training_images, training_labels), (test_images, test_labels) = mnist.load_data()"
      ],
      "execution_count": 4,
      "outputs": [
        {
          "output_type": "stream",
          "text": [
            "Downloading data from https://storage.googleapis.com/tensorflow/tf-keras-datasets/train-labels-idx1-ubyte.gz\n",
            "32768/29515 [=================================] - 0s 0us/step\n",
            "Downloading data from https://storage.googleapis.com/tensorflow/tf-keras-datasets/train-images-idx3-ubyte.gz\n",
            "26427392/26421880 [==============================] - 0s 0us/step\n",
            "Downloading data from https://storage.googleapis.com/tensorflow/tf-keras-datasets/t10k-labels-idx1-ubyte.gz\n",
            "8192/5148 [===============================================] - 0s 0us/step\n",
            "Downloading data from https://storage.googleapis.com/tensorflow/tf-keras-datasets/t10k-images-idx3-ubyte.gz\n",
            "4423680/4422102 [==============================] - 0s 0us/step\n"
          ],
          "name": "stdout"
        }
      ]
    },
    {
      "cell_type": "code",
      "metadata": {
        "id": "ZRsUUcTRuInG",
        "colab_type": "code",
        "outputId": "b1fbc6e6-45fd-418e-8a69-153fa693b20c",
        "colab": {
          "base_uri": "https://localhost:8080/",
          "height": 736
        }
      },
      "source": [
        "import numpy as np\n",
        "np.set_printoptions(linewidth=200)\n",
        "import matplotlib.pyplot as plt\n",
        "plt.imshow(training_images[3])\n",
        "print(training_labels[3])\n",
        "print(training_images[3])"
      ],
      "execution_count": 5,
      "outputs": [
        {
          "output_type": "stream",
          "text": [
            "3\n",
            "[[  0   0   0   0   0   0   0   0  33  96 175 156  64  14  54 137 204 194 102   0   0   0   0   0   0   0   0   0]\n",
            " [  0   0   0   0   0   0  73 186 177 183 175 188 232 255 223 219 194 179 186 213 146   0   0   0   0   0   0   0]\n",
            " [  0   0   0   0   0  35 163 140 150 152 150 146 175 175 173 171 156 152 148 129 156 140   0   0   0   0   0   0]\n",
            " [  0   0   0   0   0 150 142 140 152 160 156 146 142 127 135 133 140 140 137 133 125 169  75   0   0   0   0   0]\n",
            " [  0   0   0   0   0  54 167 146 129 142 137 137 131 148 148 133 131 131 131 125 140 140   0   0   0   0   0   0]\n",
            " [  0   0   0   0   0   0 110 188 133 146 152 133 125 127 119 129 133 119 140 131 150  14   0   0   0   0   0   0]\n",
            " [  0   0   0   0   0   0   0 221 158 137 135 123 110 110 114 108 112 117 127 142  77   0   0   0   0   0   0   0]\n",
            " [  0   0   0   0   0   4   0  25 158 137 125 119 119 110 117 117 110 119 127 144   0   0   0   0   0   0   0   0]\n",
            " [  0   0   0   0   0   0   0   0 123 156 129 112 110 102 112 100 121 117 129 114   0   0   0   0   0   0   0   0]\n",
            " [  0   0   0   0   0   0   0   0 125 169 127 119 106 108 104  94 121 114 129  91   0   0   0   0   0   0   0   0]\n",
            " [  0   0   0   0   0   0   2   0  98 171 129 112 104 114 106 102 112 104 133  64   0   4   0   0   0   0   0   0]\n",
            " [  0   0   0   0   0   0   2   0  66 173 135 129  98 100 119 102 108  98 135  60   0   4   0   0   0   0   0   0]\n",
            " [  0   0   0   0   0   0   2   0  56 171 135 127 100 108 117  85 106 110 135  66   0   4   0   0   0   0   0   0]\n",
            " [  0   0   0   0   0   0   0   0  52 150 129 110 100  91 102  94  83 104 123  66   0   4   0   0   0   0   0   0]\n",
            " [  0   0   0   0   0   0   2   0  66 167 140 148 148 127 137 152 146 146 148  96   0   0   0   0   0   0   0   0]\n",
            " [  0   0   0   0   0   0   0   0  45 123  94 104  96 119 121 106  98 112  87 114   0   0   0   0   0   0   0   0]\n",
            " [  0   0   0   0   0   0   0   0 106  89  58  50  37  50  66  56  50  75  75 137  22   0   2   0   0   0   0   0]\n",
            " [  0   0   0   0   0   2   0  29 148 114 106 125  89 100 133 117 131 131 131 125 112   0   0   0   0   0   0   0]\n",
            " [  0   0   0   0   0   0   0 100 106 114  91 137  62 102 131  89 135 112 131 108 135  37   0   0   0   0   0   0]\n",
            " [  0   0   0   0   0   0   0 146 100 108  98 144  62 106 131  87 133 104 160 117 121  68   0   0   0   0   0   0]\n",
            " [  0   0   0   0   0   0  33 121 108  96 100 140  71 106 127  85 140 104 150 140 114  89   0   0   0   0   0   0]\n",
            " [  0   0   0   0   0   0  62 119 112 102 110 137  75 106 144  81 144 108 117 154 117 104  18   0   0   0   0   0]\n",
            " [  0   0   0   0   0   0  66 121 102 112 117 131  73 104 156  77 137 135  83 179 129 121  35   0   0   0   0   0]\n",
            " [  0   0   0   0   0   0  85 127  81 125 133 119  79 100 169  83 129 175  60 163 135 146  39   0   0   0   0   0]\n",
            " [  0   0   0   0   0   0 106 129  62 140 144 108  85  83 158  85 129 175  48 146 133 135  64   0   0   0   0   0]\n",
            " [  0   0   0   0   0   0 117 119  79 140 152 102  89 110 137  96 150 196  83 144 135 133  77   0   0   0   0   0]\n",
            " [  0   0   0   0   0   0 154 121  87 140 154 112  94  52 142 100  83 152  85 160 133 100  12   0   0   0   0   0]\n",
            " [  0   0   0   0   0   0   4   0   2   0  35   4  33   0   0   0   0   0   0   0   0   0   0   0   0   0   0   0]]\n"
          ],
          "name": "stdout"
        },
        {
          "output_type": "display_data",
          "data": {
            "image/png": "[encoded data removed]",
            "text/plain": [
              "<Figure size 432x288 with 1 Axes>"
            ]
          },
          "metadata": {
            "tags": [],
            "needs_background": "light"
          }
        }
      ]
    },
    {
      "cell_type": "code",
      "metadata": {
        "id": "fKT-PbNSuIkm",
        "colab_type": "code",
        "colab": {}
      },
      "source": [
        "#Normalize the data\n",
        "#training_images  = training_images / 255.0\n",
        "#test_images = test_images / 255.0\n",
        "\n",
        "#For Convolution process\n",
        "training_images=training_images.reshape(60000, 28, 28, 1)\n",
        "training_images=training_images / 255.0\n",
        "test_images = test_images.reshape(10000, 28, 28, 1)\n",
        "test_images=test_images/255.0"
      ],
      "execution_count": 0,
      "outputs": []
    },
    {
      "cell_type": "code",
      "metadata": {
        "id": "1iqMGu0dvNMI",
        "colab_type": "code",
        "colab": {}
      },
      "source": [
        "#Starting model layers\n",
        "# model = tf.keras.models.Sequential([tf.keras.layers.Flatten(), #Starting with a Flatten Layer\n",
        "#                                     tf.keras.layers.Dense(128, activation=tf.nn.relu), \n",
        "#                                     tf.keras.layers.Dense(10, activation=tf.nn.softmax)])\n",
        "#Using Convolution\n",
        "model = tf.keras.models.Sequential([\n",
        "  tf.keras.layers.Conv2D(64, (3,3), activation='relu', input_shape=(28, 28, 1)),\n",
        "  tf.keras.layers.MaxPooling2D(2, 2),\n",
        "  tf.keras.layers.Conv2D(64, (3,3), activation='relu'),\n",
        "  tf.keras.layers.MaxPooling2D(2,2),\n",
        "  tf.keras.layers.Flatten(),\n",
        "  tf.keras.layers.Dense(128, activation='relu'),\n",
        "  tf.keras.layers.Dense(10, activation='softmax')\n",
        "])"
      ],
      "execution_count": 0,
      "outputs": []
    },
    {
      "cell_type": "code",
      "metadata": {
        "id": "UrEFOQCuvY_e",
        "colab_type": "code",
        "colab": {}
      },
      "source": [
        "#Compiling the model\n",
        "model.compile(optimizer = tf.optimizers.Adam(), #Using Adam Optimizer\n",
        "              loss = 'sparse_categorical_crossentropy', #As we are dealing with 10 classes of objects, we use sparse_categorical_crossentropy\n",
        "              metrics=['accuracy'])  #Accuracy measure"
      ],
      "execution_count": 0,
      "outputs": []
    },
    {
      "cell_type": "code",
      "metadata": {
        "id": "ckwRRKdV2j-a",
        "colab_type": "code",
        "outputId": "3e7ccfe7-817d-43a4-9f87-637b09cdfb67",
        "colab": {
          "base_uri": "https://localhost:8080/",
          "height": 375
        }
      },
      "source": [
        "model.summary()"
      ],
      "execution_count": 9,
      "outputs": [
        {
          "output_type": "stream",
          "text": [
            "Model: \"sequential\"\n",
            "_________________________________________________________________\n",
            "Layer (type)                 Output Shape              Param #   \n",
            "=================================================================\n",
            "conv2d (Conv2D)              (None, 26, 26, 64)        640       \n",
            "_________________________________________________________________\n",
            "max_pooling2d (MaxPooling2D) (None, 13, 13, 64)        0         \n",
            "_________________________________________________________________\n",
            "conv2d_1 (Conv2D)            (None, 11, 11, 64)        36928     \n",
            "_________________________________________________________________\n",
            "max_pooling2d_1 (MaxPooling2 (None, 5, 5, 64)          0         \n",
            "_________________________________________________________________\n",
            "flatten (Flatten)            (None, 1600)              0         \n",
            "_________________________________________________________________\n",
            "dense (Dense)                (None, 128)               204928    \n",
            "_________________________________________________________________\n",
            "dense_1 (Dense)              (None, 10)                1290      \n",
            "=================================================================\n",
            "Total params: 243,786\n",
            "Trainable params: 243,786\n",
            "Non-trainable params: 0\n",
            "_________________________________________________________________\n"
          ],
          "name": "stdout"
        }
      ]
    },
    {
      "cell_type": "code",
      "metadata": {
        "id": "0Ds4M8wlvsI7",
        "colab_type": "code",
        "outputId": "39405b18-3ed9-4635-f400-f90aa228e9f3",
        "colab": {
          "base_uri": "https://localhost:8080/",
          "height": 1000
        }
      },
      "source": [
        "#Fitting the model on training images and labels\n",
        "model.fit(training_images, training_labels, epochs = 30)"
      ],
      "execution_count": 10,
      "outputs": [
        {
          "output_type": "stream",
          "text": [
            "Epoch 1/30\n",
            "1875/1875 [==============================] - 11s 6ms/step - loss: 0.4383 - accuracy: 0.8418\n",
            "Epoch 2/30\n",
            "1875/1875 [==============================] - 11s 6ms/step - loss: 0.2918 - accuracy: 0.8927\n",
            "Epoch 3/30\n",
            "1875/1875 [==============================] - 11s 6ms/step - loss: 0.2476 - accuracy: 0.9080\n",
            "Epoch 4/30\n",
            "1875/1875 [==============================] - 11s 6ms/step - loss: 0.2156 - accuracy: 0.9193\n",
            "Epoch 5/30\n",
            "1875/1875 [==============================] - 11s 6ms/step - loss: 0.1879 - accuracy: 0.9306\n",
            "Epoch 6/30\n",
            "1875/1875 [==============================] - 11s 6ms/step - loss: 0.1665 - accuracy: 0.9381\n",
            "Epoch 7/30\n",
            "1875/1875 [==============================] - 11s 6ms/step - loss: 0.1442 - accuracy: 0.9460\n",
            "Epoch 8/30\n",
            "1875/1875 [==============================] - 11s 6ms/step - loss: 0.1278 - accuracy: 0.9520\n",
            "Epoch 9/30\n",
            "1875/1875 [==============================] - 11s 6ms/step - loss: 0.1115 - accuracy: 0.9577\n",
            "Epoch 10/30\n",
            "1875/1875 [==============================] - 11s 6ms/step - loss: 0.0971 - accuracy: 0.9629\n",
            "Epoch 11/30\n",
            "1875/1875 [==============================] - 11s 6ms/step - loss: 0.0866 - accuracy: 0.9667\n",
            "Epoch 12/30\n",
            "1875/1875 [==============================] - 11s 6ms/step - loss: 0.0766 - accuracy: 0.9704\n",
            "Epoch 13/30\n",
            "1875/1875 [==============================] - 11s 6ms/step - loss: 0.0685 - accuracy: 0.9741\n",
            "Epoch 14/30\n",
            "1875/1875 [==============================] - 11s 6ms/step - loss: 0.0579 - accuracy: 0.9782\n",
            "Epoch 15/30\n",
            "1875/1875 [==============================] - 11s 6ms/step - loss: 0.0538 - accuracy: 0.9800\n",
            "Epoch 16/30\n",
            "1875/1875 [==============================] - 11s 6ms/step - loss: 0.0492 - accuracy: 0.9813\n",
            "Epoch 17/30\n",
            "1875/1875 [==============================] - 11s 6ms/step - loss: 0.0457 - accuracy: 0.9827\n",
            "Epoch 18/30\n",
            "1875/1875 [==============================] - 11s 6ms/step - loss: 0.0408 - accuracy: 0.9851\n",
            "Epoch 19/30\n",
            "1875/1875 [==============================] - 11s 6ms/step - loss: 0.0387 - accuracy: 0.9860\n",
            "Epoch 20/30\n",
            "1875/1875 [==============================] - 11s 6ms/step - loss: 0.0347 - accuracy: 0.9876\n",
            "Epoch 21/30\n",
            "1875/1875 [==============================] - 11s 6ms/step - loss: 0.0337 - accuracy: 0.9876\n",
            "Epoch 22/30\n",
            "1875/1875 [==============================] - 11s 6ms/step - loss: 0.0333 - accuracy: 0.9879\n",
            "Epoch 23/30\n",
            "1875/1875 [==============================] - 11s 6ms/step - loss: 0.0298 - accuracy: 0.9891\n",
            "Epoch 24/30\n",
            "1875/1875 [==============================] - 11s 6ms/step - loss: 0.0290 - accuracy: 0.9892\n",
            "Epoch 25/30\n",
            "1875/1875 [==============================] - 11s 6ms/step - loss: 0.0281 - accuracy: 0.9901\n",
            "Epoch 26/30\n",
            "1875/1875 [==============================] - 11s 6ms/step - loss: 0.0283 - accuracy: 0.9898\n",
            "Epoch 27/30\n",
            "1875/1875 [==============================] - 11s 6ms/step - loss: 0.0234 - accuracy: 0.9922\n",
            "Epoch 28/30\n",
            "1875/1875 [==============================] - 11s 6ms/step - loss: 0.0275 - accuracy: 0.9904\n",
            "Epoch 29/30\n",
            "1875/1875 [==============================] - 11s 6ms/step - loss: 0.0203 - accuracy: 0.9930\n",
            "Epoch 30/30\n",
            "1875/1875 [==============================] - 11s 6ms/step - loss: 0.0246 - accuracy: 0.9912\n"
          ],
          "name": "stdout"
        },
        {
          "output_type": "execute_result",
          "data": {
            "text/plain": [
              "<tensorflow.python.keras.callbacks.History at 0x7f49c06edcc0>"
            ]
          },
          "metadata": {
            "tags": []
          },
          "execution_count": 10
        }
      ]
    },
    {
      "cell_type": "code",
      "metadata": {
        "id": "dB-Oy_aDv9FK",
        "colab_type": "code",
        "outputId": "75f0fd0c-ea1a-427d-f164-1b1133ece455",
        "colab": {
          "base_uri": "https://localhost:8080/",
          "height": 50
        }
      },
      "source": [
        "#Evaluating the model using test images\n",
        "test_loss, test_acc = model.evaluate(test_images, test_labels)\n",
        "print(f'Test Accuracy:{test_acc*100}')"
      ],
      "execution_count": 11,
      "outputs": [
        {
          "output_type": "stream",
          "text": [
            "313/313 [==============================] - 1s 4ms/step - loss: 0.7100 - accuracy: 0.9134\n",
            "Test Accuracy:91.33999943733215\n"
          ],
          "name": "stdout"
        }
      ]
    },
    {
      "cell_type": "code",
      "metadata": {
        "id": "aYHYzpX0wt-y",
        "colab_type": "code",
        "outputId": "045a2fcf-658b-483b-da32-8a2a276cc6e8",
        "colab": {
          "base_uri": "https://localhost:8080/",
          "height": 33
        }
      },
      "source": [
        "classification = model.predict(test_images)\n",
        "print(classification[0])"
      ],
      "execution_count": 12,
      "outputs": [
        {
          "output_type": "stream",
          "text": [
            "[9.4231900e-26 4.3284839e-23 5.1401480e-21 8.9215063e-23 6.3629952e-28 2.7374511e-14 1.1918771e-30 2.8371417e-15 3.3894270e-23 1.0000000e+00]\n"
          ],
          "name": "stdout"
        }
      ]
    },
    {
      "cell_type": "markdown",
      "metadata": {
        "id": "AdVKcTZ80ZfT",
        "colab_type": "text"
      },
      "source": [
        "The above output is a list of 10 probabilities..."
      ]
    },
    {
      "cell_type": "code",
      "metadata": {
        "id": "ao6Rg6aexDqj",
        "colab_type": "code",
        "colab": {}
      },
      "source": [
        "class myCallback(tf.keras.callbacks.Callback):\n",
        "  \"\"\"\n",
        "    It is the class to stop the training when a certain condition met\n",
        "  \"\"\"\n",
        "  def on_epoch_end(self, epoch, logs={}):\n",
        "    if(logs.get('loss')<0.4):\n",
        "      print(\"\\nReached 60% accuracy so cancelling training!\")\n",
        "      self.model.stop_training = True"
      ],
      "execution_count": 0,
      "outputs": []
    },
    {
      "cell_type": "code",
      "metadata": {
        "id": "pRgroCdU0iGC",
        "colab_type": "code",
        "outputId": "743fcd24-74c6-4ea7-bd71-011bc786dade",
        "colab": {
          "base_uri": "https://localhost:8080/",
          "height": 98
        }
      },
      "source": [
        "callbacks = myCallback()\n",
        "\n",
        "model.fit(training_images, training_labels, epochs=5, callbacks=[callbacks])"
      ],
      "execution_count": 14,
      "outputs": [
        {
          "output_type": "stream",
          "text": [
            "Epoch 1/5\n",
            "1869/1875 [============================>.] - ETA: 0s - loss: 0.0247 - accuracy: 0.9913\n",
            "Reached 60% accuracy so cancelling training!\n",
            "1875/1875 [==============================] - 9s 5ms/step - loss: 0.0247 - accuracy: 0.9913\n"
          ],
          "name": "stdout"
        },
        {
          "output_type": "execute_result",
          "data": {
            "text/plain": [
              "<tensorflow.python.keras.callbacks.History at 0x7f49c04b3e48>"
            ]
          },
          "metadata": {
            "tags": []
          },
          "execution_count": 14
        }
      ]
    },
    {
      "cell_type": "markdown",
      "metadata": {
        "colab_type": "text",
        "id": "IXx_LX3SAlFs"
      },
      "source": [
        "# Visualizing the Convolutions and Pooling\n",
        "\n",
        "Below code will show us the convolutions graphically. The print (test_labels[;100]) shows us the first 100 labels in the test set, and you can see that the ones at index 0, index 23 and index 28 are all the same value (9). They're all shoes. Let's take a look at the result of running the convolution on each, and we'll begin to see common features between them. Now, when the DNN is training on that data, it's working with a lot less, and it's perhaps finding a commonality between shoes based on this convolution/pooling combination."
      ]
    },
    {
      "cell_type": "code",
      "metadata": {
        "id": "sJkFL3CsU7cX",
        "colab_type": "code",
        "colab": {
          "base_uri": "https://localhost:8080/",
          "height": 50
        },
        "outputId": "4a6230ae-315a-4ba9-9507-152b0282b4e6"
      },
      "source": [
        "print(test_labels[:100])"
      ],
      "execution_count": 18,
      "outputs": [
        {
          "output_type": "stream",
          "text": [
            "[9 2 1 1 6 1 4 6 5 7 4 5 7 3 4 1 2 4 8 0 2 5 7 9 1 4 6 0 9 3 8 8 3 3 8 0 7 5 7 9 6 1 3 7 6 7 2 1 2 2 4 4 5 8 2 2 8 4 8 0 7 7 8 5 1 1 2 3 9 8 7 0 2 6 2 3 1 2 8 4 1 8 5 9 5 0 3 2 0 6 5 3 6 7 1 8 0 1 4\n",
            " 2]\n"
          ],
          "name": "stdout"
        }
      ]
    },
    {
      "cell_type": "code",
      "metadata": {
        "id": "VttOl5KjVnYf",
        "colab_type": "code",
        "colab": {
          "base_uri": "https://localhost:8080/",
          "height": 131
        },
        "outputId": "429915b8-6d71-49a4-a067-5595dc07c975"
      },
      "source": [
        "#Checking how we can get layers...\n",
        "for layer in model.layers:\n",
        "  print(layer.output)"
      ],
      "execution_count": 17,
      "outputs": [
        {
          "output_type": "stream",
          "text": [
            "Tensor(\"conv2d/Identity:0\", shape=(None, 26, 26, 64), dtype=float32)\n",
            "Tensor(\"max_pooling2d/Identity:0\", shape=(None, 13, 13, 64), dtype=float32)\n",
            "Tensor(\"conv2d_1/Identity:0\", shape=(None, 11, 11, 64), dtype=float32)\n",
            "Tensor(\"max_pooling2d_1/Identity:0\", shape=(None, 5, 5, 64), dtype=float32)\n",
            "Tensor(\"flatten/Identity:0\", shape=(None, 1600), dtype=float32)\n",
            "Tensor(\"dense/Identity:0\", shape=(None, 128), dtype=float32)\n",
            "Tensor(\"dense_1/Identity:0\", shape=(None, 10), dtype=float32)\n"
          ],
          "name": "stdout"
        }
      ]
    },
    {
      "cell_type": "code",
      "metadata": {
        "id": "FDgfKgGBJV9D",
        "colab_type": "code",
        "colab": {}
      },
      "source": [
        ""
      ],
      "execution_count": 0,
      "outputs": []
    }
  ]
}