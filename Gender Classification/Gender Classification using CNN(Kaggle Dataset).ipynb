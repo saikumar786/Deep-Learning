{
 "cells": [
  {
   "cell_type": "markdown",
   "metadata": {},
   "source": [
    "### Import required packages"
   ]
  },
  {
   "cell_type": "code",
   "execution_count": 1,
   "metadata": {},
   "outputs": [
    {
     "name": "stderr",
     "output_type": "stream",
     "text": [
      "Using TensorFlow backend.\n"
     ]
    }
   ],
   "source": [
    "import numpy as np #For Numerical computations\n",
    "import pandas as pd #I/O operations(Reading data from a file)\n",
    "import matplotlib.pyplot as plt #For plotting purpose\n",
    "import seaborn as sns #Plotting effectively then matplotlib(Overriding the styles of matplotlib)\n",
    "import os #For dir level operations\n",
    "import math #Math operations\n",
    "import cv2 #Image reading\n",
    "from PIL import Image\n",
    "from scipy import misc\n",
    "from os import listdir\n",
    "from os.path import isfile, join #To check an item is a file or not and for directory path joining purpose\n",
    "from random import shuffle #Shuffling purpose\n",
    "from sklearn.decomposition import PCA\n",
    "import tensorflow as tf #Tensorflow for Deep Learning\n",
    "from keras.models import Sequential #For Adding layers to NN\n",
    "from keras.layers import Conv2D, MaxPooling2D #For Convolution & MaxPooling steps in CNN\n",
    "from keras.layers import Activation, Dropout, Flatten, Dense #For Activation, Dropout-Regularization(Avoid overfitting), Flatten- Flattening the layers, Dense- Final Layer\n",
    "from keras.utils.np_utils import to_categorical"
   ]
  },
  {
   "cell_type": "markdown",
   "metadata": {},
   "source": [
    "#### Present Working Directory"
   ]
  },
  {
   "cell_type": "code",
   "execution_count": 2,
   "metadata": {},
   "outputs": [
    {
     "data": {
      "text/plain": [
       "'E:\\\\SK-\\\\DL\\\\Gender Classification'"
      ]
     },
     "execution_count": 2,
     "metadata": {},
     "output_type": "execute_result"
    }
   ],
   "source": [
    "pwd"
   ]
  },
  {
   "cell_type": "code",
   "execution_count": 3,
   "metadata": {},
   "outputs": [],
   "source": [
    "#Check the current directory and then move to the required directory where the images are stored for our CNN\n",
    "os.chdir('E:\\\\SK-\\\\DL\\\\Gender Classification\\\\UTKFace\\\\UTKFace')"
   ]
  },
  {
   "cell_type": "code",
   "execution_count": 4,
   "metadata": {},
   "outputs": [],
   "source": [
    "#Now, Read an image using Image library from PIL and resize it to (128,128)\n",
    "img = Image.open('1_0_0_20161219140642920.jpg.chip.jpg').resize((128,128))"
   ]
  },
  {
   "cell_type": "code",
   "execution_count": 5,
   "metadata": {},
   "outputs": [
    {
     "data": {
      "image/png": "[encoded data removed]",
      "text/plain": [
       "<PIL.Image.Image image mode=RGB size=128x128 at 0x23B9B0BBEC8>"
      ]
     },
     "execution_count": 5,
     "metadata": {},
     "output_type": "execute_result"
    }
   ],
   "source": [
    "img"
   ]
  },
  {
   "cell_type": "code",
   "execution_count": 6,
   "metadata": {},
   "outputs": [
    {
     "name": "stdout",
     "output_type": "stream",
     "text": [
      "23708\n"
     ]
    }
   ],
   "source": [
    "#Now, in this directory, we check all the items are files or not(Safety purpose)\n",
    "fileonly = os.listdir() #Gives all the files in this directory\n",
    "print(len(fileonly)) #Checking the no. of items in this dir"
   ]
  },
  {
   "cell_type": "markdown",
   "metadata": {},
   "source": [
    "### The labels of each face image is embedded in the file name, formated like [age]_[gender]_[race]_[date&time].jpg\n",
    "### Male-0 & Female-1"
   ]
  },
  {
   "cell_type": "code",
   "execution_count": 7,
   "metadata": {},
   "outputs": [
    {
     "data": {
      "text/plain": [
       "['100', '0', '0', '20170112213500903.jpg.chip.jpg']"
      ]
     },
     "execution_count": 7,
     "metadata": {},
     "output_type": "execute_result"
    }
   ],
   "source": [
    "#Checking how to split\n",
    "fileonly[0].split('_')"
   ]
  },
  {
   "cell_type": "code",
   "execution_count": 8,
   "metadata": {},
   "outputs": [],
   "source": [
    "#So, we extract the 2nd element(gender) as we are trying to classify whether a person is Male/Female.\n",
    "gender = [file.split('_')[1] for file in fileonly] #Extracting the 2nd element(Gender)"
   ]
  },
  {
   "cell_type": "code",
   "execution_count": 9,
   "metadata": {},
   "outputs": [
    {
     "data": {
      "text/plain": [
       "['0', '0', '1', '1', '1', '1', '1', '1', '1', '1']"
      ]
     },
     "execution_count": 9,
     "metadata": {},
     "output_type": "execute_result"
    }
   ],
   "source": [
    "#Just checking\n",
    "gender[:10]"
   ]
  },
  {
   "cell_type": "code",
   "execution_count": 10,
   "metadata": {},
   "outputs": [
    {
     "data": {
      "text/plain": [
       "str"
      ]
     },
     "execution_count": 10,
     "metadata": {},
     "output_type": "execute_result"
    }
   ],
   "source": [
    "#Checking the type of the element in the gender list\n",
    "type(gender[0])"
   ]
  },
  {
   "cell_type": "code",
   "execution_count": 11,
   "metadata": {},
   "outputs": [],
   "source": [
    "#Gender - 0/1 is in str format...so, we convert them to int\n",
    "classes = []\n",
    "for item in gender:\n",
    "    item = int(item)\n",
    "    classes.append(item)"
   ]
  },
  {
   "cell_type": "code",
   "execution_count": 12,
   "metadata": {},
   "outputs": [
    {
     "data": {
      "text/plain": [
       "int"
      ]
     },
     "execution_count": 12,
     "metadata": {},
     "output_type": "execute_result"
    }
   ],
   "source": [
    "#Checking the type of the item in classes\n",
    "type(classes[0])"
   ]
  },
  {
   "cell_type": "markdown",
   "metadata": {},
   "source": [
    "### Now, Converting Images to Vectors"
   ]
  },
  {
   "cell_type": "code",
   "execution_count": 13,
   "metadata": {},
   "outputs": [],
   "source": [
    "X_data = []\n",
    "for file in fileonly:\n",
    "    face = cv2.imread(file)\n",
    "    face = cv2.resize(face, (128, 128))\n",
    "    X_data.append(face)"
   ]
  },
  {
   "cell_type": "code",
   "execution_count": 14,
   "metadata": {},
   "outputs": [],
   "source": [
    "X = np.squeeze(X_data) #Squeezing the data"
   ]
  },
  {
   "cell_type": "code",
   "execution_count": 15,
   "metadata": {},
   "outputs": [
    {
     "data": {
      "text/plain": [
       "(23708, 128, 128, 3)"
      ]
     },
     "execution_count": 15,
     "metadata": {},
     "output_type": "execute_result"
    }
   ],
   "source": [
    "X.shape"
   ]
  },
  {
   "cell_type": "markdown",
   "metadata": {},
   "source": [
    "### Normalizing the data"
   ]
  },
  {
   "cell_type": "code",
   "execution_count": 16,
   "metadata": {},
   "outputs": [],
   "source": [
    "X = X.astype('float32')\n",
    "X /= 255"
   ]
  },
  {
   "cell_type": "code",
   "execution_count": 17,
   "metadata": {},
   "outputs": [],
   "source": [
    "#Categorical labels\n",
    "categorical_labels = to_categorical(classes, num_classes = 2)"
   ]
  },
  {
   "cell_type": "code",
   "execution_count": 18,
   "metadata": {},
   "outputs": [
    {
     "data": {
      "text/plain": [
       "array([[1., 0.],\n",
       "       [1., 0.],\n",
       "       [0., 1.],\n",
       "       [0., 1.],\n",
       "       [0., 1.],\n",
       "       [0., 1.]], dtype=float32)"
      ]
     },
     "execution_count": 18,
     "metadata": {},
     "output_type": "execute_result"
    }
   ],
   "source": [
    "categorical_labels[:6]"
   ]
  },
  {
   "cell_type": "markdown",
   "metadata": {},
   "source": [
    "### Data Splitting"
   ]
  },
  {
   "cell_type": "code",
   "execution_count": 20,
   "metadata": {},
   "outputs": [],
   "source": [
    "#x_train, y_train, x_test, y_test\n",
    "(x_train , y_train) , (x_test, y_test) = (X[:15008], categorical_labels[:15008]),(X[15008:], categorical_labels[15008:])\n",
    "\n",
    "#x_valid, y_valid\n",
    "(x_valid, y_valid) = (x_test[:7000], y_test[:7000])\n",
    "\n",
    "#x_test, y_test\n",
    "(x_test, y_test) = (x_test[7000:], y_test[7000:])"
   ]
  },
  {
   "cell_type": "code",
   "execution_count": 21,
   "metadata": {},
   "outputs": [
    {
     "data": {
      "text/plain": [
       "True"
      ]
     },
     "execution_count": 21,
     "metadata": {},
     "output_type": "execute_result"
    }
   ],
   "source": [
    "#Checking the all observations are equal to total obs.\n",
    "len(x_train) + len(x_test) + len(x_valid) == len(X)"
   ]
  },
  {
   "cell_type": "markdown",
   "metadata": {},
   "source": [
    "### Model Building"
   ]
  },
  {
   "cell_type": "code",
   "execution_count": 22,
   "metadata": {},
   "outputs": [],
   "source": [
    "#Starting Layers\n",
    "model = tf.keras.Sequential()"
   ]
  },
  {
   "cell_type": "code",
   "execution_count": 24,
   "metadata": {},
   "outputs": [],
   "source": [
    "#Adding First layer(Convolutional Layer)\n",
    "model.add(tf.keras.layers.Conv2D(filters=64, kernel_size=2, padding='same', activation='relu', input_shape = (128, 128, 3)))"
   ]
  },
  {
   "cell_type": "code",
   "execution_count": 25,
   "metadata": {},
   "outputs": [],
   "source": [
    "#MaxPooling\n",
    "model.add(tf.keras.layers.MaxPooling2D(pool_size=2))"
   ]
  },
  {
   "cell_type": "code",
   "execution_count": 26,
   "metadata": {},
   "outputs": [],
   "source": [
    "#Add a DropOut layer to avoid overfitting\n",
    "model.add(tf.keras.layers.Dropout(0.4))"
   ]
  },
  {
   "cell_type": "code",
   "execution_count": 27,
   "metadata": {},
   "outputs": [],
   "source": [
    "#2nd Convolutional Layer for better performance\n",
    "model.add(tf.keras.layers.Conv2D(filters=32, kernel_size=2, padding='same', activation='relu'))"
   ]
  },
  {
   "cell_type": "code",
   "execution_count": 28,
   "metadata": {},
   "outputs": [],
   "source": [
    "#2nd MaxPooling\n",
    "model.add(tf.keras.layers.MaxPooling2D(pool_size=2))"
   ]
  },
  {
   "cell_type": "code",
   "execution_count": 29,
   "metadata": {},
   "outputs": [],
   "source": [
    "#2nd DropOut\n",
    "model.add(tf.keras.layers.Dropout(0.3))"
   ]
  },
  {
   "cell_type": "code",
   "execution_count": 30,
   "metadata": {},
   "outputs": [],
   "source": [
    "#Flatten Layer\n",
    "model.add(tf.keras.layers.Flatten())"
   ]
  },
  {
   "cell_type": "code",
   "execution_count": 31,
   "metadata": {},
   "outputs": [],
   "source": [
    "#Dense\n",
    "model.add(tf.keras.layers.Dense(256, activation='relu'))\n",
    "#DropOut\n",
    "model.add(tf.keras.layers.Dropout(0.5))"
   ]
  },
  {
   "cell_type": "code",
   "execution_count": 32,
   "metadata": {},
   "outputs": [],
   "source": [
    "#Output Layer\n",
    "model.add(tf.keras.layers.Dense(2, activation = 'sigmoid'))"
   ]
  },
  {
   "cell_type": "code",
   "execution_count": 33,
   "metadata": {},
   "outputs": [
    {
     "name": "stdout",
     "output_type": "stream",
     "text": [
      "Model: \"sequential\"\n",
      "_________________________________________________________________\n",
      "Layer (type)                 Output Shape              Param #   \n",
      "=================================================================\n",
      "conv2d (Conv2D)              (None, 128, 128, 64)      832       \n",
      "_________________________________________________________________\n",
      "max_pooling2d (MaxPooling2D) (None, 64, 64, 64)        0         \n",
      "_________________________________________________________________\n",
      "dropout (Dropout)            (None, 64, 64, 64)        0         \n",
      "_________________________________________________________________\n",
      "conv2d_1 (Conv2D)            (None, 64, 64, 32)        8224      \n",
      "_________________________________________________________________\n",
      "max_pooling2d_1 (MaxPooling2 (None, 32, 32, 32)        0         \n",
      "_________________________________________________________________\n",
      "dropout_1 (Dropout)          (None, 32, 32, 32)        0         \n",
      "_________________________________________________________________\n",
      "flatten (Flatten)            (None, 32768)             0         \n",
      "_________________________________________________________________\n",
      "dense (Dense)                (None, 256)               8388864   \n",
      "_________________________________________________________________\n",
      "dropout_2 (Dropout)          (None, 256)               0         \n",
      "_________________________________________________________________\n",
      "dense_1 (Dense)              (None, 2)                 514       \n",
      "=================================================================\n",
      "Total params: 8,398,434\n",
      "Trainable params: 8,398,434\n",
      "Non-trainable params: 0\n",
      "_________________________________________________________________\n"
     ]
    }
   ],
   "source": [
    "#Summary of the model\n",
    "model.summary()"
   ]
  },
  {
   "cell_type": "code",
   "execution_count": 34,
   "metadata": {},
   "outputs": [],
   "source": [
    "#Compiling the model\n",
    "model.compile(loss='binary_crossentropy', optimizer='adam', metrics=['accuracy'])"
   ]
  },
  {
   "cell_type": "code",
   "execution_count": null,
   "metadata": {},
   "outputs": [
    {
     "name": "stdout",
     "output_type": "stream",
     "text": [
      "Train on 15008 samples, validate on 7000 samples\n",
      "Epoch 1/30\n",
      "15008/15008 [==============================] - 413s 27ms/sample - loss: 0.6066 - accuracy: 0.6965 - val_loss: 0.5227 - val_accuracy: 0.7669\n",
      "Epoch 2/30\n",
      "15008/15008 [==============================] - 395s 26ms/sample - loss: 0.3824 - accuracy: 0.8282 - val_loss: 0.3498 - val_accuracy: 0.8623\n",
      "Epoch 3/30\n",
      "15008/15008 [==============================] - 394s 26ms/sample - loss: 0.3417 - accuracy: 0.8484 - val_loss: 0.3046 - val_accuracy: 0.8706\n",
      "Epoch 4/30\n",
      "15008/15008 [==============================] - 395s 26ms/sample - loss: 0.3181 - accuracy: 0.8554 - val_loss: 0.2909 - val_accuracy: 0.8819\n",
      "Epoch 5/30\n",
      "15008/15008 [==============================] - 389s 26ms/sample - loss: 0.3014 - accuracy: 0.8684 - val_loss: 0.3004 - val_accuracy: 0.8676\n",
      "Epoch 6/30\n",
      "15008/15008 [==============================] - 390s 26ms/sample - loss: 0.2934 - accuracy: 0.8687 - val_loss: 0.3152 - val_accuracy: 0.8679\n",
      "Epoch 7/30\n",
      "15008/15008 [==============================] - 637s 42ms/sample - loss: 0.2822 - accuracy: 0.8779 - val_loss: 0.2745 - val_accuracy: 0.8864\n",
      "Epoch 8/30\n",
      "15008/15008 [==============================] - 395s 26ms/sample - loss: 0.2719 - accuracy: 0.8801 - val_loss: 0.2736 - val_accuracy: 0.8844\n",
      "Epoch 9/30\n",
      "15008/15008 [==============================] - 393s 26ms/sample - loss: 0.2595 - accuracy: 0.8878 - val_loss: 0.2896 - val_accuracy: 0.8767\n",
      "Epoch 10/30\n",
      "15008/15008 [==============================] - 391s 26ms/sample - loss: 0.2485 - accuracy: 0.8921 - val_loss: 0.2634 - val_accuracy: 0.8865\n",
      "Epoch 11/30\n",
      "15008/15008 [==============================] - 390s 26ms/sample - loss: 0.2403 - accuracy: 0.8972 - val_loss: 0.2486 - val_accuracy: 0.8956\n",
      "Epoch 12/30\n",
      "15008/15008 [==============================] - 13786s 919ms/sample - loss: 0.2260 - accuracy: 0.9045 - val_loss: 0.2430 - val_accuracy: 0.8999\n",
      "Epoch 13/30\n",
      "15008/15008 [==============================] - 404s 27ms/sample - loss: 0.2231 - accuracy: 0.9054 - val_loss: 0.2514 - val_accuracy: 0.8949\n",
      "Epoch 14/30\n",
      "15008/15008 [==============================] - 401s 27ms/sample - loss: 0.2063 - accuracy: 0.9132 - val_loss: 0.2511 - val_accuracy: 0.8943\n",
      "Epoch 15/30\n",
      "15008/15008 [==============================] - 404s 27ms/sample - loss: 0.2025 - accuracy: 0.9132 - val_loss: 0.2680 - val_accuracy: 0.8837\n",
      "Epoch 16/30\n",
      "15008/15008 [==============================] - 393s 26ms/sample - loss: 0.1888 - accuracy: 0.9219 - val_loss: 0.2605 - val_accuracy: 0.8913\n",
      "Epoch 17/30\n",
      "15008/15008 [==============================] - 392s 26ms/sample - loss: 0.1820 - accuracy: 0.9237 - val_loss: 0.2993 - val_accuracy: 0.8787\n",
      "Epoch 18/30\n",
      "15008/15008 [==============================] - 390s 26ms/sample - loss: 0.1713 - accuracy: 0.9303 - val_loss: 0.2894 - val_accuracy: 0.8909\n",
      "Epoch 19/30\n",
      "15008/15008 [==============================] - 390s 26ms/sample - loss: 0.1665 - accuracy: 0.9321 - val_loss: 0.2847 - val_accuracy: 0.8937\n",
      "Epoch 20/30\n",
      "10560/15008 [====================>.........] - ETA: 1:45 - loss: 0.1589 - accuracy: 0.9366"
     ]
    }
   ],
   "source": [
    "#Training the model on the input data\n",
    "model.fit(x_train, y_train, batch_size = 64, epochs = 30, validation_data=(x_valid, y_valid))"
   ]
  },
  {
   "cell_type": "code",
   "execution_count": null,
   "metadata": {},
   "outputs": [],
   "source": []
  }
 ],
 "metadata": {
  "kernelspec": {
   "display_name": "Python 3",
   "language": "python",
   "name": "python3"
  },
  "language_info": {
   "codemirror_mode": {
    "name": "ipython",
    "version": 3
   },
   "file_extension": ".py",
   "mimetype": "text/x-python",
   "name": "python",
   "nbconvert_exporter": "python",
   "pygments_lexer": "ipython3",
   "version": "3.7.7"
  }
 },
 "nbformat": 4,
 "nbformat_minor": 4
}
