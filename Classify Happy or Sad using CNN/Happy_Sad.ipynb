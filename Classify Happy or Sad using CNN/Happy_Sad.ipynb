{
  "nbformat": 4,
  "nbformat_minor": 0,
  "metadata": {
    "colab": {
      "name": "Happy/Sad.ipynb",
      "provenance": []
    },
    "kernelspec": {
      "name": "python3",
      "display_name": "Python 3"
    }
  },
  "cells": [
    {
      "cell_type": "markdown",
      "metadata": {
        "id": "ml9oRaobNWKY",
        "colab_type": "text"
      },
      "source": [
        "**Building a Neural Network that can classify whether the person is feeling Happy/Sad!!!**"
      ]
    },
    {
      "cell_type": "code",
      "metadata": {
        "id": "RH2Yx_XhLcwm",
        "colab_type": "code",
        "colab": {}
      },
      "source": [
        "#Importing the required packages\n",
        "import tensorflow as tf #Tensorflow package for Deep Learning\n",
        "import os #For Directory level operations\n",
        "import zipfile #For Extracting the zipfiles"
      ],
      "execution_count": 0,
      "outputs": []
    },
    {
      "cell_type": "code",
      "metadata": {
        "id": "f-ypNrOcOO8g",
        "colab_type": "code",
        "colab": {
          "base_uri": "https://localhost:8080/",
          "height": 196
        },
        "outputId": "409feffb-e661-4d78-b641-08fcc70810ec"
      },
      "source": [
        "!wget --no-check-certificate \\\n",
        "    \"https://storage.googleapis.com/laurencemoroney-blog.appspot.com/happy-or-sad.zip\" \\\n",
        "    -O \"/tmp/happy-or-sad.zip\""
      ],
      "execution_count": 7,
      "outputs": [
        {
          "output_type": "stream",
          "text": [
            "--2020-06-13 15:09:40--  https://storage.googleapis.com/laurencemoroney-blog.appspot.com/happy-or-sad.zip\n",
            "Resolving storage.googleapis.com (storage.googleapis.com)... 172.217.204.128, 2607:f8b0:400c:c03::80\n",
            "Connecting to storage.googleapis.com (storage.googleapis.com)|172.217.204.128|:443... connected.\n",
            "HTTP request sent, awaiting response... 200 OK\n",
            "Length: 2670333 (2.5M) [application/zip]\n",
            "Saving to: ‘/tmp/happy-or-sad.zip’\n",
            "\n",
            "\r/tmp/happy-or-sad.z   0%[                    ]       0  --.-KB/s               \r/tmp/happy-or-sad.z 100%[===================>]   2.55M  --.-KB/s    in 0.01s   \n",
            "\n",
            "2020-06-13 15:09:40 (216 MB/s) - ‘/tmp/happy-or-sad.zip’ saved [2670333/2670333]\n",
            "\n"
          ],
          "name": "stdout"
        }
      ]
    },
    {
      "cell_type": "code",
      "metadata": {
        "id": "MT2GNSnIOb2f",
        "colab_type": "code",
        "colab": {}
      },
      "source": [
        "#Extracting zip file which was downloaded in previous cell\n",
        "zip_location = zipfile.ZipFile('/tmp/happy-or-sad.zip', 'r')\n",
        "zip_location.extractall(\"/tmp/Happy-Sad\")\n",
        "zip_location.close()"
      ],
      "execution_count": 0,
      "outputs": []
    },
    {
      "cell_type": "code",
      "metadata": {
        "id": "7M8Qdod2PYlC",
        "colab_type": "code",
        "colab": {}
      },
      "source": [
        "#Creating a Callback class to stop training when our required Accuracy reaches\n",
        "class Callback(tf.keras.callbacks.Callback):\n",
        "  def on_epoch_end(self, epoch, logs={}):\n",
        "    if(logs.get('accuracy') > 0.95):\n",
        "      print('\\n95% Accuracy reached!!!\\nCancelling Training!')\n",
        "      self.model.stop_training = True\n",
        "\n",
        "callback = Callback()"
      ],
      "execution_count": 0,
      "outputs": []
    },
    {
      "cell_type": "code",
      "metadata": {
        "id": "BnJYpKO_QKZ8",
        "colab_type": "code",
        "colab": {}
      },
      "source": [
        "#Starting building model with layers\n",
        "model = tf.keras.models.Sequential([\n",
        "                                  tf.keras.layers.Conv2D(16, (3, 3), activation='relu', input_shape = (150, 150, 3)),\n",
        "                                  tf.keras.layers.MaxPooling2D(2, 2),\n",
        "                                  tf.keras.layers.Conv2D(32, (3, 3), activation='relu'),\n",
        "                                  tf.keras.layers.MaxPooling2D(2, 2),\n",
        "                                  tf.keras.layers.Conv2D(32, (3, 3), activation='relu'),\n",
        "                                  tf.keras.layers.MaxPooling2D(2, 2),\n",
        "                                  tf.keras.layers.Flatten(),\n",
        "                                  tf.keras.layers.Dense(512, activation='relu'),\n",
        "                                  tf.keras.layers.Dense(1, activation='sigmoid')\n",
        "])"
      ],
      "execution_count": 0,
      "outputs": []
    },
    {
      "cell_type": "code",
      "metadata": {
        "id": "9OiI5BQxRTTt",
        "colab_type": "code",
        "colab": {}
      },
      "source": [
        "#First, import the RMSProp optimizer(As we use this for this project)\n",
        "from tensorflow.keras.optimizers import RMSprop\n",
        "#Compiling the model with all the layers set up\n",
        "model.compile(loss='binary_crossentropy',\n",
        "              optimizer=RMSprop(lr=0.001),\n",
        "              metrics = ['accuracy'])"
      ],
      "execution_count": 0,
      "outputs": []
    },
    {
      "cell_type": "code",
      "metadata": {
        "id": "rZXncAg2R4pK",
        "colab_type": "code",
        "colab": {
          "base_uri": "https://localhost:8080/",
          "height": 33
        },
        "outputId": "f59ab7a5-8c7f-4133-8a2d-a670a24cad58"
      },
      "source": [
        "#Using Keras API(ImageDataGenerator) to resize all the images while training\n",
        "from tensorflow.keras.preprocessing.image import ImageDataGenerator\n",
        "train_datagen = ImageDataGenerator(rescale = 1/255)\n",
        "\n",
        "train_generator = train_datagen.flow_from_directory(\n",
        "    \"/tmp/Happy-Sad\",\n",
        "    target_size = (150, 150),\n",
        "    batch_size = 10,\n",
        "    class_mode = 'binary'\n",
        ")"
      ],
      "execution_count": 13,
      "outputs": [
        {
          "output_type": "stream",
          "text": [
            "Found 80 images belonging to 2 classes.\n"
          ],
          "name": "stdout"
        }
      ]
    },
    {
      "cell_type": "code",
      "metadata": {
        "id": "Oj9m79XwStHT",
        "colab_type": "code",
        "colab": {
          "base_uri": "https://localhost:8080/",
          "height": 98
        },
        "outputId": "0771f702-52a8-46a4-ebcb-4185e0199be0"
      },
      "source": [
        "#Now, Fitting the model\n",
        "history = model.fit(train_generator,\n",
        "                    steps_per_epoch = 8,\n",
        "                    epochs = 15,\n",
        "                    verbose = 1,\n",
        "                    callbacks = [callback])"
      ],
      "execution_count": 15,
      "outputs": [
        {
          "output_type": "stream",
          "text": [
            "Epoch 1/15\n",
            "8/8 [==============================] - ETA: 0s - loss: 0.0171 - accuracy: 1.0000\n",
            "95% Accuracy reached!!!\n",
            "Cancelling Training!\n",
            "8/8 [==============================] - 1s 182ms/step - loss: 0.0171 - accuracy: 1.0000\n"
          ],
          "name": "stdout"
        }
      ]
    },
    {
      "cell_type": "code",
      "metadata": {
        "id": "R61wjZXZTJwN",
        "colab_type": "code",
        "colab": {}
      },
      "source": [
        ""
      ],
      "execution_count": 0,
      "outputs": []
    }
  ]
}